{
 "cells": [
  {
   "cell_type": "code",
   "execution_count": 8,
   "metadata": {},
   "outputs": [],
   "source": [
    "import svgwrite\n",
    "\n",
    "def create_donut_svg(filename, outer_radius=50, inner_radius=25, center=(100, 100), stroke_width=2, stroke=\"black\", fill=\"black\"):\n",
    "    \"\"\"\n",
    "    Creates an SVG file with a donut shape. The donut has a black fill with a transparent hole in the center.\n",
    "    \n",
    "    Parameters:\n",
    "    - filename: The name of the SVG file to save.\n",
    "    - outer_radius: Radius of the outer circle for the donut's body.\n",
    "    - inner_radius: Radius of the transparent hole in the center.\n",
    "    - center: A tuple representing the (x, y) coordinates of the donut's center.\n",
    "    - stroke_width: The width of the stroke line.\n",
    "    - stroke: The color of the stroke, which is the edge of the donut.\n",
    "    - fill: The fill color of the donut's body.\n",
    "    \"\"\"\n",
    "    # Create an SVG drawing instance\n",
    "    dwg = svgwrite.Drawing(filename, profile='tiny')\n",
    "\n",
    "    # Create donut shape using \"path\" with a move command to the outer circle start, \n",
    "    # then drawing the outer circle, and then a move command to the inner circle start,\n",
    "    # and drawing the inner circle in reverse (to cut out the hole)\n",
    "    commands = []\n",
    "    # Move to the start of the outer circle\n",
    "    commands.append(f\"M{center[0] + outer_radius},{center[1]}\")\n",
    "    # Draw the outer circle\n",
    "    commands.append(f\"A{outer_radius},{outer_radius} 0 1,1 {center[0] - outer_radius},{center[1]}\")\n",
    "    commands.append(f\"A{outer_radius},{outer_radius} 0 1,1 {center[0] + outer_radius},{center[1]}\")\n",
    "    # Move to the start of the inner circle\n",
    "    commands.append(f\"M{center[0] + inner_radius},{center[1]}\")\n",
    "    # Draw the inner circle in reverse\n",
    "    commands.append(f\"A{inner_radius},{inner_radius} 0 1,0 {center[0] - inner_radius},{center[1]}\")\n",
    "    commands.append(f\"A{inner_radius},{inner_radius} 0 1,0 {center[0] + inner_radius},{center[1]}\")\n",
    "\n",
    "    # Combine commands and add the path to the drawing\n",
    "    path = dwg.path(d=\" \".join(commands), fill=fill, stroke=stroke, stroke_width=stroke_width)\n",
    "    dwg.add(path)\n",
    "\n",
    "    # Save the SVG file\n",
    "    dwg.save()\n",
    "\n",
    "# Example usage\n",
    "create_donut_svg(\"transparent_donut.svg\")\n"
   ]
  },
  {
   "cell_type": "code",
   "execution_count": null,
   "metadata": {},
   "outputs": [],
   "source": []
  },
  {
   "cell_type": "code",
   "execution_count": null,
   "metadata": {},
   "outputs": [],
   "source": []
  },
  {
   "cell_type": "code",
   "execution_count": null,
   "metadata": {},
   "outputs": [],
   "source": []
  }
 ],
 "metadata": {
  "kernelspec": {
   "display_name": "Python 3",
   "language": "python",
   "name": "python3"
  },
  "language_info": {
   "codemirror_mode": {
    "name": "ipython",
    "version": 3
   },
   "file_extension": ".py",
   "mimetype": "text/x-python",
   "name": "python",
   "nbconvert_exporter": "python",
   "pygments_lexer": "ipython3",
   "version": "3.11.7"
  }
 },
 "nbformat": 4,
 "nbformat_minor": 2
}
